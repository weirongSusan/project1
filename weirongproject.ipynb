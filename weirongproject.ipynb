{
 "cells": [
  {
   "cell_type": "code",
   "execution_count": 7,
   "metadata": {},
   "outputs": [],
   "source": [
    "# Section must be included at the beginning of each new notebook. Remember to change the app name. \n",
    "# If you're using VirtualBox, change the below to '/home/user/spark-2.1.1-bin-hadoop2.7'\n",
    "import findspark\n",
    "findspark.init('/home/ubuntu/spark-2.1.1-bin-hadoop2.7')\n",
    "import pyspark\n",
    "from pyspark.sql import SparkSession\n",
    "spark = SparkSession.builder.appName('basics').getOrCreate()"
   ]
  },
  {
   "cell_type": "code",
   "execution_count": 8,
   "metadata": {},
   "outputs": [],
   "source": [
    "# Let's read in the data. If you open the dataset, you'll find that each column has a header. We specify that by stating that header=True.\n",
    "# To make our lives easier, we can also use 'inferSchema' when importing CSVs. This automatically detects data types.\n",
    "# If you would like to manually change data types, refer to this article: https://medium.com/@mrpowers/adding-structtype-columns-to-spark-dataframes-b44125409803\n",
    "df = spark.read.csv('absenteeism3.csv',header=True,inferSchema=True)"
   ]
  },
  {
   "cell_type": "code",
   "execution_count": 9,
   "metadata": {},
   "outputs": [
    {
     "name": "stdout",
     "output_type": "stream",
     "text": [
      "+---+------------------+----------------+---------------+-------+----------------------+-------------------------------+------------+---+----------------------+----------+--------------------+---------+---+--------------+-------------+---+------+---------------+-------------------------+------+\n",
      "| ID|Reason for absence|Month of absence|Day of the week|Seasons|Transportation expense|Distance from Residence to Work|Service time|Age|Work load Average/day |Hit target|Disciplinary failure|Education|Son|Social drinker|Social smoker|Pet|Weight|Body mass index|Absenteeism time in hours|Height|\n",
      "+---+------------------+----------------+---------------+-------+----------------------+-------------------------------+------------+---+----------------------+----------+--------------------+---------+---+--------------+-------------+---+------+---------------+-------------------------+------+\n",
      "| 11|                26|               7|              3|      1|                   289|                             36|          13| 33|               239,554|        97|                   0|        1|  2|             1|            0|  1|    90|             30|                        4|  1.72|\n",
      "| 36|                 0|               7|              3|      1|                   118|                             13|          18| 50|               239,554|        97|                   1|        1|  1|             1|            0|  0|    98|             31|                        0|  1.78|\n",
      "|  3|                23|               7|              4|      1|                   179|                             51|          18| 38|               239,554|        97|                   0|        1|  0|             1|            0|  0|    89|             31|                        2|   1.7|\n",
      "|  7|                 7|               7|              5|      1|                   279|                              5|          14| 39|               239,554|        97|                   0|        1|  2|             1|            1|  0|    68|             24|                        4|  1.68|\n",
      "| 11|                23|               7|              5|      1|                   289|                             36|          13| 33|               239,554|        97|                   0|        1|  2|             1|            0|  1|    90|             30|                        2|  1.72|\n",
      "|  3|                23|               7|              6|      1|                   179|                             51|          18| 38|               239,554|        97|                   0|        1|  0|             1|            0|  0|    89|             31|                        2|   1.7|\n",
      "| 10|                22|               7|              6|      1|                   361|                             52|           3| 28|               239,554|        97|                   0|        1|  1|             1|            0|  4|    80|             27|                        8|  1.72|\n",
      "| 20|                23|               7|              6|      1|                   260|                             50|          11| 36|               239,554|        97|                   0|        1|  4|             1|            0|  0|    65|             23|                        4|  1.68|\n",
      "| 14|                19|               7|              2|      1|                   155|                             12|          14| 34|               239,554|        97|                   0|        1|  2|             1|            0|  0|    95|             25|                       40|  1.96|\n",
      "|  1|                22|               7|              2|      1|                   235|                             11|          14| 37|               239,554|        97|                   0|        3|  1|             0|            0|  1|    88|             29|                        8|  1.72|\n",
      "| 20|                 1|               7|              2|      1|                   260|                             50|          11| 36|               239,554|        97|                   0|        1|  4|             1|            0|  0|    65|             23|                        8|  1.68|\n",
      "| 20|                 1|               7|              3|      1|                   260|                             50|          11| 36|               239,554|        97|                   0|        1|  4|             1|            0|  0|    65|             23|                        8|  1.68|\n",
      "| 20|                11|               7|              4|      1|                   260|                             50|          11| 36|               239,554|        97|                   0|        1|  4|             1|            0|  0|    65|             23|                        8|  1.68|\n",
      "|  3|                11|               7|              4|      1|                   179|                             51|          18| 38|               239,554|        97|                   0|        1|  0|             1|            0|  0|    89|             31|                        1|   1.7|\n",
      "|  3|                23|               7|              4|      1|                   179|                             51|          18| 38|               239,554|        97|                   0|        1|  0|             1|            0|  0|    89|             31|                        4|   1.7|\n",
      "| 24|                14|               7|              6|      1|                   246|                             25|          16| 41|               239,554|        97|                   0|        1|  0|             1|            0|  0|    67|             23|                        8|   1.7|\n",
      "|  3|                23|               7|              6|      1|                   179|                             51|          18| 38|               239,554|        97|                   0|        1|  0|             1|            0|  0|    89|             31|                        2|   1.7|\n",
      "|  3|                21|               7|              2|      1|                   179|                             51|          18| 38|               239,554|        97|                   0|        1|  0|             1|            0|  0|    89|             31|                        8|   1.7|\n",
      "|  6|                11|               7|              5|      1|                   189|                             29|          13| 33|               239,554|        97|                   0|        1|  2|             0|            0|  2|    69|             25|                        8|  1.67|\n",
      "| 33|                23|               8|              4|      1|                   248|                             25|          14| 47|               205,917|        92|                   0|        1|  2|             0|            0|  1|    86|             32|                        2|  1.65|\n",
      "+---+------------------+----------------+---------------+-------+----------------------+-------------------------------+------------+---+----------------------+----------+--------------------+---------+---+--------------+-------------+---+------+---------------+-------------------------+------+\n",
      "only showing top 20 rows\n",
      "\n"
     ]
    }
   ],
   "source": [
    "# The show method allows you visualise DataFrames in a tabular format. \n",
    "df.show()"
   ]
  },
  {
   "cell_type": "code",
   "execution_count": 10,
   "metadata": {},
   "outputs": [
    {
     "name": "stdout",
     "output_type": "stream",
     "text": [
      "root\n",
      " |-- ID: integer (nullable = true)\n",
      " |-- Reason for absence: integer (nullable = true)\n",
      " |-- Month of absence: integer (nullable = true)\n",
      " |-- Day of the week: integer (nullable = true)\n",
      " |-- Seasons: integer (nullable = true)\n",
      " |-- Transportation expense: integer (nullable = true)\n",
      " |-- Distance from Residence to Work: integer (nullable = true)\n",
      " |-- Service time: integer (nullable = true)\n",
      " |-- Age: integer (nullable = true)\n",
      " |-- Work load Average/day : string (nullable = true)\n",
      " |-- Hit target: integer (nullable = true)\n",
      " |-- Disciplinary failure: integer (nullable = true)\n",
      " |-- Education: integer (nullable = true)\n",
      " |-- Son: integer (nullable = true)\n",
      " |-- Social drinker: integer (nullable = true)\n",
      " |-- Social smoker: integer (nullable = true)\n",
      " |-- Pet: integer (nullable = true)\n",
      " |-- Weight: integer (nullable = true)\n",
      " |-- Body mass index: integer (nullable = true)\n",
      " |-- Absenteeism time in hours: integer (nullable = true)\n",
      " |-- Height: double (nullable = true)\n",
      "\n",
      "[Row(ID=11, Reason for absence=26, Month of absence=7, Day of the week=3, Seasons=1, Transportation expense=289, Distance from Residence to Work=36, Service time=13, Age=33, Work load Average/day ='239,554', Hit target=97, Disciplinary failure=0, Education=1, Son=2, Social drinker=1, Social smoker=0, Pet=1, Weight=90, Body mass index=30, Absenteeism time in hours=4, Height=1.72)]\n"
     ]
    }
   ],
   "source": [
    "# Print schema allows us to visualise the data structure at a high level. \n",
    "df.printSchema()\n",
    "\n",
    "# We can also use head to print a specific amount of rows, so we can get a better understanding of the data points. \n",
    "# Note that we have to specify 'print' depending on the method we're using. Otherwise it may not show up!\n",
    "print(df.head(1))"
   ]
  },
  {
   "cell_type": "code",
   "execution_count": 11,
   "metadata": {},
   "outputs": [
    {
     "name": "stdout",
     "output_type": "stream",
     "text": [
      "+-------+------------------+------------------+------------------+------------------+------------------+----------------------+-------------------------------+------------------+-----------------+----------------------+-----------------+--------------------+------------------+------------------+-------------------+-------------------+------------------+------------------+------------------+-------------------------+--------------------+\n",
      "|summary|                ID|Reason for absence|  Month of absence|   Day of the week|           Seasons|Transportation expense|Distance from Residence to Work|      Service time|              Age|Work load Average/day |       Hit target|Disciplinary failure|         Education|               Son|     Social drinker|      Social smoker|               Pet|            Weight|   Body mass index|Absenteeism time in hours|              Height|\n",
      "+-------+------------------+------------------+------------------+------------------+------------------+----------------------+-------------------------------+------------------+-----------------+----------------------+-----------------+--------------------+------------------+------------------+-------------------+-------------------+------------------+------------------+------------------+-------------------------+--------------------+\n",
      "|  count|               740|               740|               740|               740|               740|                   740|                            740|               740|              740|                   740|              740|                 740|               740|               740|                740|                740|               740|               740|               740|                      740|                 740|\n",
      "|   mean|18.017567567567568|19.216216216216218| 6.324324324324325|3.9148648648648647|2.5445945945945945|    221.32972972972973|              29.63108108108108|12.554054054054054|            36.45|                  null|94.58783783783784| 0.05405405405405406|1.2918918918918918| 1.018918918918919| 0.5675675675675675|0.07297297297297298| 0.745945945945946| 79.03513513513514|26.677027027027027|        6.924324324324324|  1.7211486486486636|\n",
      "| stddev|11.021247263063657|  8.43340588279965|3.4362869319125897|1.4216747097562805| 1.111831060157382|     66.95222324531973|             14.836788436739143| 4.384873407621148|6.478772457611868|                  null|3.779313134418015| 0.22627727323215058|0.6732380415251598|1.0984890195302817|0.49574866720003496| 0.2602680502800183|1.3182582913258336|12.883210507177214| 4.285452223167274|       13.330998100978196|0.060349945302676636|\n",
      "|    min|                 1|                 0|                 0|                 2|                 1|                   118|                              5|                 1|               27|               205,917|               81|                   0|                 1|                 0|                  0|                  0|                 0|                56|                19|                        0|                1.63|\n",
      "|    max|                36|                28|                12|                 6|                 4|                   388|                             52|                29|               58|               378,884|              100|                   1|                 4|                 4|                  1|                  1|                 8|               108|                38|                      120|                1.96|\n",
      "+-------+------------------+------------------+------------------+------------------+------------------+----------------------+-------------------------------+------------------+-----------------+----------------------+-----------------+--------------------+------------------+------------------+-------------------+-------------------+------------------+------------------+------------------+-------------------------+--------------------+\n",
      "\n"
     ]
    }
   ],
   "source": [
    "# We can use the describe method get some general statistics on our data too. \n",
    "df.describe().show()"
   ]
  },
  {
   "cell_type": "code",
   "execution_count": 13,
   "metadata": {},
   "outputs": [
    {
     "name": "stdout",
     "output_type": "stream",
     "text": [
      "+-------+------------------+------------------+-----------------+------------------+------------------+-------------------+-------------------+------------------+------------------+------------------+-------------------------+--------------------+\n",
      "|summary|                ID|Reason for absence|              age|         Education|               Son|     Social drinker|      Social smoker|               Pet|            Weight|   Body mass index|Absenteeism time in hours|              Height|\n",
      "+-------+------------------+------------------+-----------------+------------------+------------------+-------------------+-------------------+------------------+------------------+------------------+-------------------------+--------------------+\n",
      "|  count|               740|               740|              740|               740|               740|                740|                740|               740|               740|               740|                      740|                 740|\n",
      "|   mean|18.017567567567568|19.216216216216218|            36.45|1.2918918918918918| 1.018918918918919| 0.5675675675675675|0.07297297297297298| 0.745945945945946| 79.03513513513514|26.677027027027027|        6.924324324324324|  1.7211486486486636|\n",
      "| stddev|11.021247263063657|  8.43340588279965|6.478772457611868|0.6732380415251598|1.0984890195302817|0.49574866720003496| 0.2602680502800183|1.3182582913258336|12.883210507177214| 4.285452223167274|       13.330998100978196|0.060349945302676636|\n",
      "|    min|                 1|                 0|               27|                 1|                 0|                  0|                  0|                 0|                56|                19|                        0|                1.63|\n",
      "|    max|                36|                28|               58|                 4|                 4|                  1|                  1|                 8|               108|                38|                      120|                1.96|\n",
      "+-------+------------------+------------------+-----------------+------------------+------------------+-------------------+-------------------+------------------+------------------+------------------+-------------------------+--------------------+\n",
      "\n"
     ]
    }
   ],
   "source": [
    "# Let's select the columns that are integers, and use the describe method again.\n",
    "# We see that the average age is 41. The average bank account balance is $1,074. \n",
    "# And they spoke to call centre reps for approx. 931 seconds on average. \n",
    "df.select('ID', 'Reason for absence', 'age','Education', 'Son', 'Social drinker', 'Social smoker', 'Pet', 'Weight', 'Body mass index', 'Absenteeism time in hours', 'Height').describe().show()"
   ]
  },
  {
   "cell_type": "code",
   "execution_count": 14,
   "metadata": {},
   "outputs": [
    {
     "name": "stdout",
     "output_type": "stream",
     "text": [
      "+---+------------------+---+---------+---+--------------+-------------+---+------+---------------+-------------------------+------+\n",
      "| ID|Reason for absence|age|Education|Son|Social drinker|Social smoker|Pet|Weight|Body mass index|Absenteeism time in hours|Height|\n",
      "+---+------------------+---+---------+---+--------------+-------------+---+------+---------------+-------------------------+------+\n",
      "| 11|                26| 33|        1|  2|             1|            0|  1|    90|             30|                        4|  1.72|\n",
      "| 36|                 0| 50|        1|  1|             1|            0|  0|    98|             31|                        0|  1.78|\n",
      "|  3|                23| 38|        1|  0|             1|            0|  0|    89|             31|                        2|   1.7|\n",
      "|  7|                 7| 39|        1|  2|             1|            1|  0|    68|             24|                        4|  1.68|\n",
      "| 11|                23| 33|        1|  2|             1|            0|  1|    90|             30|                        2|  1.72|\n",
      "|  3|                23| 38|        1|  0|             1|            0|  0|    89|             31|                        2|   1.7|\n",
      "| 10|                22| 28|        1|  1|             1|            0|  4|    80|             27|                        8|  1.72|\n",
      "| 20|                23| 36|        1|  4|             1|            0|  0|    65|             23|                        4|  1.68|\n",
      "| 14|                19| 34|        1|  2|             1|            0|  0|    95|             25|                       40|  1.96|\n",
      "|  1|                22| 37|        3|  1|             0|            0|  1|    88|             29|                        8|  1.72|\n",
      "| 20|                 1| 36|        1|  4|             1|            0|  0|    65|             23|                        8|  1.68|\n",
      "| 20|                 1| 36|        1|  4|             1|            0|  0|    65|             23|                        8|  1.68|\n",
      "| 20|                11| 36|        1|  4|             1|            0|  0|    65|             23|                        8|  1.68|\n",
      "|  3|                11| 38|        1|  0|             1|            0|  0|    89|             31|                        1|   1.7|\n",
      "|  3|                23| 38|        1|  0|             1|            0|  0|    89|             31|                        4|   1.7|\n",
      "| 24|                14| 41|        1|  0|             1|            0|  0|    67|             23|                        8|   1.7|\n",
      "|  3|                23| 38|        1|  0|             1|            0|  0|    89|             31|                        2|   1.7|\n",
      "|  3|                21| 38|        1|  0|             1|            0|  0|    89|             31|                        8|   1.7|\n",
      "|  6|                11| 33|        1|  2|             0|            0|  2|    69|             25|                        8|  1.67|\n",
      "| 33|                23| 47|        1|  2|             0|            0|  1|    86|             32|                        2|  1.65|\n",
      "+---+------------------+---+---------+---+--------------+-------------+---+------+---------------+-------------------------+------+\n",
      "only showing top 20 rows\n",
      "\n"
     ]
    }
   ],
   "source": [
    "# Let's select the balance column and assign it to a variable. \n",
    "bal_col = df.select('ID', 'Reason for absence', 'age','Education', 'Son', 'Social drinker', 'Social smoker', 'Pet', 'Weight', 'Body mass index', 'Absenteeism time in hours', 'Height')\n",
    "\n",
    "# We can then use the show method on that variable.\n",
    "bal_col.show()"
   ]
  },
  {
   "cell_type": "code",
   "execution_count": 24,
   "metadata": {},
   "outputs": [
    {
     "name": "stdout",
     "output_type": "stream",
     "text": [
      "+---+------------------+---+---------+---+--------------+-------------+---+------+---------------+-------------------------+------+\n",
      "| ID|Reason for absence|age|Education|Son|Social drinker|Social smoker|Pet|Weight|Body mass index|Absenteeism time in hours|Height|\n",
      "+---+------------------+---+---------+---+--------------+-------------+---+------+---------------+-------------------------+------+\n",
      "| 11|                26| 33|        1|  2|             1|            0|  1|    90|             30|                        4|  1.72|\n",
      "| 36|                 0| 50|        1|  1|             1|            0|  0|    98|             31|                        0|  1.78|\n",
      "|  3|                23| 38|        1|  0|             1|            0|  0|    89|             31|                        2|   1.7|\n",
      "|  7|                 7| 39|        1|  2|             1|            1|  0|    68|             24|                        4|  1.68|\n",
      "| 11|                23| 33|        1|  2|             1|            0|  1|    90|             30|                        2|  1.72|\n",
      "|  3|                23| 38|        1|  0|             1|            0|  0|    89|             31|                        2|   1.7|\n",
      "| 10|                22| 28|        1|  1|             1|            0|  4|    80|             27|                        8|  1.72|\n",
      "| 20|                23| 36|        1|  4|             1|            0|  0|    65|             23|                        4|  1.68|\n",
      "| 14|                19| 34|        1|  2|             1|            0|  0|    95|             25|                       40|  1.96|\n",
      "|  1|                22| 37|        3|  1|             0|            0|  1|    88|             29|                        8|  1.72|\n",
      "| 20|                 1| 36|        1|  4|             1|            0|  0|    65|             23|                        8|  1.68|\n",
      "| 20|                 1| 36|        1|  4|             1|            0|  0|    65|             23|                        8|  1.68|\n",
      "| 20|                11| 36|        1|  4|             1|            0|  0|    65|             23|                        8|  1.68|\n",
      "|  3|                11| 38|        1|  0|             1|            0|  0|    89|             31|                        1|   1.7|\n",
      "|  3|                23| 38|        1|  0|             1|            0|  0|    89|             31|                        4|   1.7|\n",
      "| 24|                14| 41|        1|  0|             1|            0|  0|    67|             23|                        8|   1.7|\n",
      "|  3|                23| 38|        1|  0|             1|            0|  0|    89|             31|                        2|   1.7|\n",
      "|  3|                21| 38|        1|  0|             1|            0|  0|    89|             31|                        8|   1.7|\n",
      "|  6|                11| 33|        1|  2|             0|            0|  2|    69|             25|                        8|  1.67|\n",
      "| 33|                23| 47|        1|  2|             0|            0|  1|    86|             32|                        2|  1.65|\n",
      "+---+------------------+---+---------+---+--------------+-------------+---+------+---------------+-------------------------+------+\n",
      "only showing top 20 rows\n",
      "\n"
     ]
    },
    {
     "ename": "Py4JError",
     "evalue": "An error occurred while calling o210.showString. Trace:\npy4j.Py4JException: Method showString([null, class java.lang.Integer]) does not exist\n\tat py4j.reflection.ReflectionEngine.getMethod(ReflectionEngine.java:318)\n\tat py4j.reflection.ReflectionEngine.getMethod(ReflectionEngine.java:326)\n\tat py4j.Gateway.invoke(Gateway.java:272)\n\tat py4j.commands.AbstractCommand.invokeMethod(AbstractCommand.java:132)\n\tat py4j.commands.CallCommand.execute(CallCommand.java:79)\n\tat py4j.GatewayConnection.run(GatewayConnection.java:214)\n\tat java.lang.Thread.run(Thread.java:748)\n\n",
     "output_type": "error",
     "traceback": [
      "\u001b[0;31m---------------------------------------------------------------------------\u001b[0m",
      "\u001b[0;31mPy4JError\u001b[0m                                 Traceback (most recent call last)",
      "\u001b[0;32m<ipython-input-24-669c4572ceaf>\u001b[0m in \u001b[0;36m<module>\u001b[0;34m()\u001b[0m\n\u001b[1;32m      1\u001b[0m \u001b[0;31m# Let's try out some additional DataFrame methods.\u001b[0m\u001b[0;34m\u001b[0m\u001b[0;34m\u001b[0m\u001b[0m\n\u001b[1;32m      2\u001b[0m \u001b[0;31m# How would we identify individuals with a balance above $5,000? Using filter!\u001b[0m\u001b[0;34m\u001b[0m\u001b[0;34m\u001b[0m\u001b[0m\n\u001b[0;32m----> 3\u001b[0;31m \u001b[0mdf\u001b[0m\u001b[0;34m.\u001b[0m\u001b[0mfilter\u001b[0m\u001b[0;34m(\u001b[0m\u001b[0;34m\"ID=1\"\u001b[0m\u001b[0;34m)\u001b[0m\u001b[0;34m.\u001b[0m\u001b[0mshow\u001b[0m\u001b[0;34m(\u001b[0m\u001b[0mbal_col\u001b[0m\u001b[0;34m.\u001b[0m\u001b[0mshow\u001b[0m\u001b[0;34m(\u001b[0m\u001b[0;34m)\u001b[0m\u001b[0;34m)\u001b[0m\u001b[0;34m\u001b[0m\u001b[0m\n\u001b[0m\u001b[1;32m      4\u001b[0m \u001b[0;34m\u001b[0m\u001b[0m\n\u001b[1;32m      5\u001b[0m \u001b[0;31m# We can also use more advanced filters. For example, let's see the jobs of people with over $2,500 in their bank account.\u001b[0m\u001b[0;34m\u001b[0m\u001b[0;34m\u001b[0m\u001b[0m\n",
      "\u001b[0;32m~/spark-2.1.1-bin-hadoop2.7/python/pyspark/sql/dataframe.py\u001b[0m in \u001b[0;36mshow\u001b[0;34m(self, n, truncate)\u001b[0m\n\u001b[1;32m    316\u001b[0m         \"\"\"\n\u001b[1;32m    317\u001b[0m         \u001b[0;32mif\u001b[0m \u001b[0misinstance\u001b[0m\u001b[0;34m(\u001b[0m\u001b[0mtruncate\u001b[0m\u001b[0;34m,\u001b[0m \u001b[0mbool\u001b[0m\u001b[0;34m)\u001b[0m \u001b[0;32mand\u001b[0m \u001b[0mtruncate\u001b[0m\u001b[0;34m:\u001b[0m\u001b[0;34m\u001b[0m\u001b[0m\n\u001b[0;32m--> 318\u001b[0;31m             \u001b[0mprint\u001b[0m\u001b[0;34m(\u001b[0m\u001b[0mself\u001b[0m\u001b[0;34m.\u001b[0m\u001b[0m_jdf\u001b[0m\u001b[0;34m.\u001b[0m\u001b[0mshowString\u001b[0m\u001b[0;34m(\u001b[0m\u001b[0mn\u001b[0m\u001b[0;34m,\u001b[0m \u001b[0;36m20\u001b[0m\u001b[0;34m)\u001b[0m\u001b[0;34m)\u001b[0m\u001b[0;34m\u001b[0m\u001b[0m\n\u001b[0m\u001b[1;32m    319\u001b[0m         \u001b[0;32melse\u001b[0m\u001b[0;34m:\u001b[0m\u001b[0;34m\u001b[0m\u001b[0m\n\u001b[1;32m    320\u001b[0m             \u001b[0mprint\u001b[0m\u001b[0;34m(\u001b[0m\u001b[0mself\u001b[0m\u001b[0;34m.\u001b[0m\u001b[0m_jdf\u001b[0m\u001b[0;34m.\u001b[0m\u001b[0mshowString\u001b[0m\u001b[0;34m(\u001b[0m\u001b[0mn\u001b[0m\u001b[0;34m,\u001b[0m \u001b[0mint\u001b[0m\u001b[0;34m(\u001b[0m\u001b[0mtruncate\u001b[0m\u001b[0;34m)\u001b[0m\u001b[0;34m)\u001b[0m\u001b[0;34m)\u001b[0m\u001b[0;34m\u001b[0m\u001b[0m\n",
      "\u001b[0;32m~/spark-2.1.1-bin-hadoop2.7/python/lib/py4j-0.10.4-src.zip/py4j/java_gateway.py\u001b[0m in \u001b[0;36m__call__\u001b[0;34m(self, *args)\u001b[0m\n\u001b[1;32m   1131\u001b[0m         \u001b[0manswer\u001b[0m \u001b[0;34m=\u001b[0m \u001b[0mself\u001b[0m\u001b[0;34m.\u001b[0m\u001b[0mgateway_client\u001b[0m\u001b[0;34m.\u001b[0m\u001b[0msend_command\u001b[0m\u001b[0;34m(\u001b[0m\u001b[0mcommand\u001b[0m\u001b[0;34m)\u001b[0m\u001b[0;34m\u001b[0m\u001b[0m\n\u001b[1;32m   1132\u001b[0m         return_value = get_return_value(\n\u001b[0;32m-> 1133\u001b[0;31m             answer, self.gateway_client, self.target_id, self.name)\n\u001b[0m\u001b[1;32m   1134\u001b[0m \u001b[0;34m\u001b[0m\u001b[0m\n\u001b[1;32m   1135\u001b[0m         \u001b[0;32mfor\u001b[0m \u001b[0mtemp_arg\u001b[0m \u001b[0;32min\u001b[0m \u001b[0mtemp_args\u001b[0m\u001b[0;34m:\u001b[0m\u001b[0;34m\u001b[0m\u001b[0m\n",
      "\u001b[0;32m~/spark-2.1.1-bin-hadoop2.7/python/pyspark/sql/utils.py\u001b[0m in \u001b[0;36mdeco\u001b[0;34m(*a, **kw)\u001b[0m\n\u001b[1;32m     61\u001b[0m     \u001b[0;32mdef\u001b[0m \u001b[0mdeco\u001b[0m\u001b[0;34m(\u001b[0m\u001b[0;34m*\u001b[0m\u001b[0ma\u001b[0m\u001b[0;34m,\u001b[0m \u001b[0;34m**\u001b[0m\u001b[0mkw\u001b[0m\u001b[0;34m)\u001b[0m\u001b[0;34m:\u001b[0m\u001b[0;34m\u001b[0m\u001b[0m\n\u001b[1;32m     62\u001b[0m         \u001b[0;32mtry\u001b[0m\u001b[0;34m:\u001b[0m\u001b[0;34m\u001b[0m\u001b[0m\n\u001b[0;32m---> 63\u001b[0;31m             \u001b[0;32mreturn\u001b[0m \u001b[0mf\u001b[0m\u001b[0;34m(\u001b[0m\u001b[0;34m*\u001b[0m\u001b[0ma\u001b[0m\u001b[0;34m,\u001b[0m \u001b[0;34m**\u001b[0m\u001b[0mkw\u001b[0m\u001b[0;34m)\u001b[0m\u001b[0;34m\u001b[0m\u001b[0m\n\u001b[0m\u001b[1;32m     64\u001b[0m         \u001b[0;32mexcept\u001b[0m \u001b[0mpy4j\u001b[0m\u001b[0;34m.\u001b[0m\u001b[0mprotocol\u001b[0m\u001b[0;34m.\u001b[0m\u001b[0mPy4JJavaError\u001b[0m \u001b[0;32mas\u001b[0m \u001b[0me\u001b[0m\u001b[0;34m:\u001b[0m\u001b[0;34m\u001b[0m\u001b[0m\n\u001b[1;32m     65\u001b[0m             \u001b[0ms\u001b[0m \u001b[0;34m=\u001b[0m \u001b[0me\u001b[0m\u001b[0;34m.\u001b[0m\u001b[0mjava_exception\u001b[0m\u001b[0;34m.\u001b[0m\u001b[0mtoString\u001b[0m\u001b[0;34m(\u001b[0m\u001b[0;34m)\u001b[0m\u001b[0;34m\u001b[0m\u001b[0m\n",
      "\u001b[0;32m~/spark-2.1.1-bin-hadoop2.7/python/lib/py4j-0.10.4-src.zip/py4j/protocol.py\u001b[0m in \u001b[0;36mget_return_value\u001b[0;34m(answer, gateway_client, target_id, name)\u001b[0m\n\u001b[1;32m    321\u001b[0m                 raise Py4JError(\n\u001b[1;32m    322\u001b[0m                     \u001b[0;34m\"An error occurred while calling {0}{1}{2}. Trace:\\n{3}\\n\"\u001b[0m\u001b[0;34m.\u001b[0m\u001b[0;34m\u001b[0m\u001b[0m\n\u001b[0;32m--> 323\u001b[0;31m                     format(target_id, \".\", name, value))\n\u001b[0m\u001b[1;32m    324\u001b[0m         \u001b[0;32melse\u001b[0m\u001b[0;34m:\u001b[0m\u001b[0;34m\u001b[0m\u001b[0m\n\u001b[1;32m    325\u001b[0m             raise Py4JError(\n",
      "\u001b[0;31mPy4JError\u001b[0m: An error occurred while calling o210.showString. Trace:\npy4j.Py4JException: Method showString([null, class java.lang.Integer]) does not exist\n\tat py4j.reflection.ReflectionEngine.getMethod(ReflectionEngine.java:318)\n\tat py4j.reflection.ReflectionEngine.getMethod(ReflectionEngine.java:326)\n\tat py4j.Gateway.invoke(Gateway.java:272)\n\tat py4j.commands.AbstractCommand.invokeMethod(AbstractCommand.java:132)\n\tat py4j.commands.CallCommand.execute(CallCommand.java:79)\n\tat py4j.GatewayConnection.run(GatewayConnection.java:214)\n\tat java.lang.Thread.run(Thread.java:748)\n\n"
     ]
    }
   ],
   "source": [
    "# Let's try out some additional DataFrame methods.\n",
    "# How would we identify individuals with a balance above $5,000? Using filter! \n",
    "df.filter(\"ID=1\").show(bal_col.show())\n",
    "\n",
    "# We can also use more advanced filters. For example, let's see the jobs of people with over $2,500 in their bank account.\n",
    "df.filter(\"ID=1\").select('Reason for absence', 'Absenteeism time in hours').show(bal_col.show())"
   ]
  },
  {
   "cell_type": "code",
   "execution_count": null,
   "metadata": {},
   "outputs": [],
   "source": []
  }
 ],
 "metadata": {
  "kernelspec": {
   "display_name": "Python 3",
   "language": "python",
   "name": "python3"
  },
  "language_info": {
   "codemirror_mode": {
    "name": "ipython",
    "version": 3
   },
   "file_extension": ".py",
   "mimetype": "text/x-python",
   "name": "python",
   "nbconvert_exporter": "python",
   "pygments_lexer": "ipython3",
   "version": "3.5.2"
  }
 },
 "nbformat": 4,
 "nbformat_minor": 2
}
